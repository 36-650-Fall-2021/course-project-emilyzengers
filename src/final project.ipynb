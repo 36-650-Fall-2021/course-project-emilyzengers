{
 "cells": [
  {
   "cell_type": "markdown",
   "id": "7778b648",
   "metadata": {},
   "source": [
    "### task ii"
   ]
  },
  {
   "cell_type": "code",
   "execution_count": 4,
   "id": "b65b0ca1",
   "metadata": {},
   "outputs": [],
   "source": [
    "# import libraries\n",
    "\n",
    "import psycopg2\n",
    "\n",
    "import pandas as pd"
   ]
  },
  {
   "cell_type": "code",
   "execution_count": 5,
   "id": "16f41078",
   "metadata": {
    "scrolled": true
   },
   "outputs": [
    {
     "data": {
      "text/plain": [
       "[[232789, '仲川 輝人', 51, 68, 17],\n",
       " [233727, 'Connor McLennan', 51, 67, 16],\n",
       " [193512, 'Milan Heča', 58, 73, 15],\n",
       " [234111, 'David Turnbull', 54, 69, 15],\n",
       " [245131, 'Giorgi Tsitaishvili', 52, 66, 14]]"
      ]
     },
     "execution_count": 5,
     "metadata": {},
     "output_type": "execute_result"
    }
   ],
   "source": [
    "# question 1\n",
    "# List the x players who achieved highest improvement across all skillsets\n",
    "\n",
    "# create connection to postgres database and get data from players20 and players19 tables\n",
    "conn = psycopg2.connect(host=\"localhost\", \n",
    "                    port=\"5432\", \n",
    "                    user=\"postgres\", \n",
    "                    password=\"114645\", \n",
    "                    database=\"postgres\")\n",
    "sql1 = \"select * from fifa.players20;\"\n",
    "sql2 = \"select * from fifa.players19;\"\n",
    "players20 = pd.read_sql_query(sql1, conn)\n",
    "players19 = pd.read_sql_query(sql2, conn)\n",
    "conn = None\n",
    "\n",
    "def most_improvement(x):\n",
    "    # check to make sure x is an integer\n",
    "    if isinstance(x, int) is not True:\n",
    "        return(\"Must input integer\")\n",
    "    \n",
    "    # select long name, overall, and sofifa (unique) id from players20\n",
    "    # select sofifa id and overall from players19\n",
    "    df1 = players20[[\"sofifa_id\", \"long_name\", \"overall\"]]\n",
    "    df2 = players19[[\"sofifa_id\", \"overall\"]]\n",
    "    \n",
    "    # merge dataframes on sofifa id so the same players are being compared\n",
    "    common = df1.merge(df2, on = [\"sofifa_id\"])\n",
    "\n",
    "    # rename columns\n",
    "    df3 = common.rename(columns={'sofifa_id': 'Sofifa ID', 'overall_x': '2020 Overall', 'overall_y': '2019 Overall', 'long_name': 'Name'})\n",
    "\n",
    "    # add in difference column\n",
    "    df3['Difference'] = df3['2020 Overall'] - df3['2019 Overall']\n",
    "\n",
    "    # sort largest to smallest difference\n",
    "    df3 = df3.sort_values(by = 'Difference', ascending = False)\n",
    "\n",
    "    df3 = df3.reindex(columns=['Sofifa ID', 'Name', '2019 Overall', '2020 Overall', 'Difference'])\n",
    "    \n",
    "    df3 = df3.head(x)\n",
    "    \n",
    "    # convert dataframe to list\n",
    "    most_improved = df3.values.tolist()\n",
    "    return most_improved\n",
    "\n",
    "most_improvement(5)"
   ]
  },
  {
   "cell_type": "code",
   "execution_count": 6,
   "id": "bfe86cf5",
   "metadata": {},
   "outputs": [
    {
     "data": {
      "text/plain": [
       "[(18, '1. FC Kaiserslautern'),\n",
       " (18, 'FC Ingolstadt 04'),\n",
       " (17, 'FC Girondins de Bordeaux'),\n",
       " (16, 'Kasimpaşa SK'),\n",
       " (16, 'SV Wehen Wiesbaden'),\n",
       " (15, 'Ascoli'),\n",
       " (15, 'Newport County'),\n",
       " (15, 'MSV Duisburg'),\n",
       " (15, 'Hellas Verona'),\n",
       " (15, 'FC St. Gallen')]"
      ]
     },
     "execution_count": 6,
     "metadata": {},
     "output_type": "execute_result"
    }
   ],
   "source": [
    "# question 2\n",
    "# What are the y clubs that have largest number of players with contracts ending in 2021?\n",
    "\n",
    "def num_clubs(y):\n",
    "    # check to make sure y is an integer\n",
    "    if isinstance(y, int) is not True:\n",
    "        return(\"Must input integer\")\n",
    "    \n",
    "    conn = psycopg2.connect(host=\"localhost\", \n",
    "                    port=\"5432\", \n",
    "                    user=\"postgres\", \n",
    "                    password=\"114645\", \n",
    "                    database=\"postgres\")\n",
    "    \n",
    "    cur = conn.cursor()\n",
    "    cur.execute(\"select count(club), club from fifa.players20 where contract_valid_until = 2021 group by club order by count(club) desc\")\n",
    "    \n",
    "    # create empty list \n",
    "    list = []\n",
    "    for row in cur:\n",
    "        list.append(row)\n",
    "    \n",
    "    # return list of y clubs that have largest number of players with contracts ending in 2021\n",
    "    return list[:y]\n",
    "\n",
    "    cur.close()\n",
    "    conn.close()\n",
    "\n",
    "num_clubs(10)"
   ]
  },
  {
   "cell_type": "code",
   "execution_count": 7,
   "id": "1b13f70c",
   "metadata": {},
   "outputs": [
    {
     "data": {
      "text/plain": [
       "[(33, 'Parma'),\n",
       " (33, 'Athletic Club de Bilbao'),\n",
       " (33, 'Valencia CF'),\n",
       " (33, 'Fortuna Düsseldorf'),\n",
       " (33, 'Crystal Palace')]"
      ]
     },
     "execution_count": 7,
     "metadata": {},
     "output_type": "execute_result"
    }
   ],
   "source": [
    "# question 3\n",
    "# List the z clubs with largest number of players in the dataset where z >= 5\n",
    "\n",
    "def num_clubs_lim(z):\n",
    "    # z has to be at least 5, z >=5\n",
    "    if z < 5:\n",
    "        return \"The number of clubs to display should at least be 5\"\n",
    "    \n",
    "    conn = psycopg2.connect(host=\"localhost\", \n",
    "                    port=\"5432\", \n",
    "                    user=\"postgres\", \n",
    "                    password=\"114645\", \n",
    "                    database=\"postgres\")\n",
    "    \n",
    "    cur = conn.cursor()\n",
    "    cur.execute(\"select count(club) as number_of_players, club from fifa.players20 group by club order by count(club) desc\")\n",
    "    \n",
    "    # create empty list \n",
    "    list = []\n",
    "    for row in cur:\n",
    "        list.append(row)\n",
    "        \n",
    "    # return list of z clubs with largest number of players in the dataset where z >= 5\n",
    "    return list[:z]\n",
    "\n",
    "    cur.close()\n",
    "    conn.close()\n",
    "\n",
    "num_clubs_lim(5)"
   ]
  },
  {
   "cell_type": "code",
   "execution_count": 89,
   "id": "dae9098a",
   "metadata": {},
   "outputs": [
    {
     "data": {
      "text/plain": [
       "('GK', 662)"
      ]
     },
     "execution_count": 89,
     "metadata": {},
     "output_type": "execute_result"
    }
   ],
   "source": [
    "# question 4\n",
    "# What is the most popular nation_position and team_position in the dataset? (list the most popular for each)\n",
    "\n",
    "def team_position_mode():\n",
    "    conn = psycopg2.connect(host=\"localhost\", \n",
    "                    port=\"5432\", \n",
    "                    user=\"postgres\", \n",
    "                    password=\"114645\", \n",
    "                    database=\"postgres\")\n",
    "    \n",
    "    cur = conn.cursor()\n",
    "    cur.execute(\"SELECT team_position, count(*) FROM fifa.players20 where team_position != 'SUB' and team_position != 'RES' GROUP BY team_position ORDER BY count(*) DESC LIMIT 1\")\n",
    "    \n",
    "    # create empty list \n",
    "    list = []\n",
    "    for row in cur:\n",
    "        list.append(row)\n",
    "        \n",
    "    # return list of most popular team position that doesn't include substitute or reserve\n",
    "    return list\n",
    "\n",
    "    cur.close()\n",
    "    conn.close()\n",
    "\n",
    "team_position_mode()[0]\n"
   ]
  },
  {
   "cell_type": "code",
   "execution_count": 55,
   "id": "10443815",
   "metadata": {},
   "outputs": [
    {
     "data": {
      "text/plain": [
       "[('LCB', 49), ('GK', 49), ('RCB', 49)]"
      ]
     },
     "execution_count": 55,
     "metadata": {},
     "output_type": "execute_result"
    }
   ],
   "source": [
    "# question 4 continued\n",
    "def nation_position_mode():\n",
    "    conn = psycopg2.connect(host=\"localhost\", \n",
    "                    port=\"5432\", \n",
    "                    user=\"postgres\", \n",
    "                    password=\"114645\", \n",
    "                    database=\"postgres\")\n",
    "    \n",
    "    cur = conn.cursor()\n",
    "    cur.execute(\"select nation_position, count(*) from fifa.players20 where nation_position !='SUB' and nation_position != 'RES' group by nation_position order by count(*) desc limit 3\")\n",
    "    \n",
    "    # create empty list \n",
    "    list = []\n",
    "    for row in cur:\n",
    "        list.append(row)\n",
    "        \n",
    "    # return list of most popular nation position that doesn't include substitute or reserve\n",
    "    return list\n",
    "\n",
    "    cur.close()\n",
    "    conn.close()\n",
    "\n",
    "nation_position_mode()"
   ]
  },
  {
   "cell_type": "code",
   "execution_count": 56,
   "id": "d1e719a6",
   "metadata": {},
   "outputs": [
    {
     "data": {
      "text/plain": [
       "[('England', 1667)]"
      ]
     },
     "execution_count": 56,
     "metadata": {},
     "output_type": "execute_result"
    }
   ],
   "source": [
    "# question 5\n",
    "# What is the most popular nationality for the players in the dataset?\n",
    "\n",
    "def nationality_mode():\n",
    "    conn = psycopg2.connect(host=\"localhost\", \n",
    "                    port=\"5432\", \n",
    "                    user=\"postgres\", \n",
    "                    password=\"114645\", \n",
    "                    database=\"postgres\")\n",
    "    \n",
    "    cur = conn.cursor()\n",
    "    cur.execute(\"select nationality, count(nationality) as number_of_players from fifa.players20 group by nationality order by number_of_players desc limit 1;\")\n",
    "    \n",
    "    # create empty list \n",
    "    list = []\n",
    "    for row in cur:\n",
    "        list.append(row)\n",
    "        \n",
    "    # return list of most popular nationality\n",
    "    return list\n",
    "\n",
    "    cur.close()\n",
    "    conn.close()\n",
    "\n",
    "nationality_mode()"
   ]
  },
  {
   "cell_type": "code",
   "execution_count": null,
   "id": "85cd804b",
   "metadata": {},
   "outputs": [],
   "source": [
    "# unit testing for each function\n",
    "\n",
    "import pytest\n",
    "from q1_src import *\n",
    "\n",
    "def test_most_improvement():\n",
    "    assert most_improvement(10) is not None, \"Most improvement dataframe should not be empty\"\n",
    "    assert most_improvement(10)[1] == [233727, 'Connor McLennan', 51, 67, 16], \"Second most improved player should be Connor McLennan\"\n",
    "    assert len(most_improvement(5)) == 5, \"There should be 5 players\"\n",
    "    assert most_improvement(5)[1] != [193512, 'Milan Heča', 58, 73, 15], \"Second most improved player should not be Milan Heča\"\n",
    "\n",
    "import pytest\n",
    "from q2_src import *\n",
    "\n",
    "def test_num_clubs():\n",
    "    assert num_clubs(10) is not None, \"Number of clubs should not be empty\"\n",
    "    assert len(num_clubs(5)) == 5, \"Length of list should be 5\"\n",
    "    assert num_clubs(10)[0] == (18, '1. FC Kaiserslautern'), \"Club with most players with contracts ending in 2021 should be 1. FC Kaiserslautern\"\n",
    "    assert num_clubs(10)[0] != (18, 'FC Ingolstadt 04'), \"Club with most players with contracts ending in 2021 should not be FC Ingolstadt 04\"\n",
    "    assert num_clubs(5)[1][0] > num_clubs(5)[2][0], \"FC Ingolstadt 04 should have more players with contracts ending in 2021 than FC Girondins de Bordeaux does\"\n",
    "    \n",
    "import pytest\n",
    "from q3_src import *\n",
    "\n",
    "def test_num_clubs_lim():\n",
    "    assert num_clubs_lim(10) is not None, \"Number of clubs should not be empty\"\n",
    "    assert num_clubs_lim(10)[0] == (33, 'Parma'), \"Second element in list should be (33,'Parma')\"\n",
    "    assert len(num_clubs_lim(5)) == 5, \"There should be 5 clubs\"\n",
    "    assert num_clubs_lim(5)[1] != (33, 'Parma'), \"Second element in list should not be (33, 'Parma'))\"\n",
    "    assert num_clubs_lim(5)[1][0] == num_clubs(5)[2][0], \"Parma and Athletic Club de Bilbao should have the same number of players\"\n",
    "    assert num_clubs_lim(3) is 'The number of clubs to display should at least be 5', \"Should return an error message where z must be greater than equal to 5\"\n",
    "    \n",
    "import pytest\n",
    "from q4_src import *\n",
    "\n",
    "def test_team_position():\n",
    "    assert team_position_mode() is not None, \"Should not be empty and return positions\"\n",
    "    assert len(team_position_mode()) == 1, \"There should be one team position that is the most popular\"\n",
    "    assert team_position_mode()[0][0] == 'GK', \"The most popular team position should be GK, or goalkeeper\"\n",
    "    assert team_position_mode()[0] == ('GK', 662), \"The most popular team position should be GK, with 662 players with that position.\"\n",
    "\n",
    "def test_nation_position():\n",
    "    assert nation_position_mode() is not None, \"Should not be empty and return positions\"\n",
    "    assert len(nation_position_mode()) == 3, \"There should be 3 most popular nation positions\"\n",
    "    assert nation_position_mode()[0][0] == 'LCB', \"The most popular team position should be GK, or goalkeeper\"\n",
    "    assert nation_position_mode()[0] == ('LCB', 49), \"The most popular team position should be GK, with 662 players with that position.\"\n",
    "    \n",
    "import pytest\n",
    "from q5_src import *\n",
    "\n",
    "def test_nationality():\n",
    "    assert nationality_mode() is not None, \"Should return a nationality and not be empty\"\n",
    "    assert nationality_mode()[0] == ('England', 1667), \"The most popular nationality should be English\"\n",
    "    assert len(num_clubs_lim()) == 1, \"There should only be one most popular nationality\"\n",
    "    assert nationality_mode()[0][0] == 'England', \"Should return England\"\n"
   ]
  }
 ],
 "metadata": {
  "kernelspec": {
   "display_name": "Python 3",
   "language": "python",
   "name": "python3"
  },
  "language_info": {
   "codemirror_mode": {
    "name": "ipython",
    "version": 3
   },
   "file_extension": ".py",
   "mimetype": "text/x-python",
   "name": "python",
   "nbconvert_exporter": "python",
   "pygments_lexer": "ipython3",
   "version": "3.8.8"
  }
 },
 "nbformat": 4,
 "nbformat_minor": 5
}
