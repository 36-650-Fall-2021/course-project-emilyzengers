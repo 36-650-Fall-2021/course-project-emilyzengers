{
 "cells": [
  {
   "cell_type": "markdown",
   "id": "7778b648",
   "metadata": {},
   "source": [
    "### task ii"
   ]
  },
  {
   "cell_type": "code",
   "execution_count": 26,
   "id": "b65b0ca1",
   "metadata": {},
   "outputs": [],
   "source": [
    "# import libraries\n",
    "\n",
    "import psycopg2\n",
    "\n",
    "import pandas as pd"
   ]
  },
  {
   "cell_type": "code",
   "execution_count": 57,
   "id": "16f41078",
   "metadata": {
    "scrolled": true
   },
   "outputs": [
    {
     "data": {
      "text/plain": [
       "[[232789, '仲川 輝人', 51, 68, 17],\n",
       " [233727, 'Connor McLennan', 51, 67, 16],\n",
       " [193512, 'Milan Heča', 58, 73, 15],\n",
       " [234111, 'David Turnbull', 54, 69, 15],\n",
       " [245131, 'Giorgi Tsitaishvili', 52, 66, 14],\n",
       " [227706, 'Jakub Hromada', 55, 69, 14],\n",
       " [239890, 'Ozan Muhammed Kabak', 60, 74, 14],\n",
       " [244655, 'Gavin Whyte', 52, 66, 14],\n",
       " [245371, 'Thiago Almada', 58, 72, 14],\n",
       " [244380, 'Vitaliy Mykolenko', 56, 70, 14]]"
      ]
     },
     "execution_count": 57,
     "metadata": {},
     "output_type": "execute_result"
    }
   ],
   "source": [
    "# question 1\n",
    "# List the x players who achieved highest improvement across all skillsets\n",
    "\n",
    "# create connection to postgres database and get data from players20 and players19 tables\n",
    "conn = psycopg2.connect(host=\"localhost\", \n",
    "                    port=\"5432\", \n",
    "                    user=\"postgres\", \n",
    "                    password=\"114645\", \n",
    "                    database=\"postgres\")\n",
    "sql1 = \"select * from fifa.players20;\"\n",
    "sql2 = \"select * from fifa.players19;\"\n",
    "players20 = pd.read_sql_query(sql1, conn)\n",
    "players19 = pd.read_sql_query(sql2, conn)\n",
    "conn = None\n",
    "\n",
    "def most_improvement(x):\n",
    "    # check to make sure x is an integer\n",
    "    if isinstance(x, int) is not True:\n",
    "        return(\"Must input integer\")\n",
    "    \n",
    "    # check to make sure x is not zero or negative\n",
    "    if x <= 0:\n",
    "        return \"The number of players to display must be a postive integer\"\n",
    "    \n",
    "    # select long name, overall, and sofifa (unique) id from players20\n",
    "    # select sofifa id and overall from players19\n",
    "    df1 = players20[[\"sofifa_id\", \"long_name\", \"overall\"]]\n",
    "    df2 = players19[[\"sofifa_id\", \"overall\"]]\n",
    "    \n",
    "    # merge dataframes on sofifa id so the same players are being compared\n",
    "    common = df1.merge(df2, on = [\"sofifa_id\"])\n",
    "\n",
    "    # rename columns\n",
    "    df3 = common.rename(columns={'sofifa_id': 'Sofifa ID', 'overall_x': '2020 Overall', 'overall_y': '2019 Overall', 'long_name': 'Name'})\n",
    "\n",
    "    # add in difference column\n",
    "    df3['Difference'] = df3['2020 Overall'] - df3['2019 Overall']\n",
    "\n",
    "    # sort largest to smallest difference\n",
    "    df3 = df3.sort_values(by = 'Difference', ascending = False)\n",
    "\n",
    "    df3 = df3.reindex(columns=['Sofifa ID', 'Name', '2019 Overall', '2020 Overall', 'Difference'])\n",
    "    \n",
    "    df3 = df3.head(x)\n",
    "    \n",
    "    # convert dataframe to list\n",
    "    most_improved = df3.values.tolist()\n",
    "    return most_improved\n",
    "\n",
    "most_improvement(10)"
   ]
  },
  {
   "cell_type": "code",
   "execution_count": 36,
   "id": "bfe86cf5",
   "metadata": {},
   "outputs": [
    {
     "data": {
      "text/plain": [
       "[(18, '1. FC Kaiserslautern'),\n",
       " (18, 'FC Ingolstadt 04'),\n",
       " (17, 'FC Girondins de Bordeaux'),\n",
       " (16, 'Kasimpaşa SK'),\n",
       " (16, 'SV Wehen Wiesbaden'),\n",
       " (15, 'Ascoli'),\n",
       " (15, 'Newport County'),\n",
       " (15, 'MSV Duisburg'),\n",
       " (15, 'Hellas Verona'),\n",
       " (15, 'FC St. Gallen')]"
      ]
     },
     "execution_count": 36,
     "metadata": {},
     "output_type": "execute_result"
    }
   ],
   "source": [
    "# question 2\n",
    "# What are the y clubs that have largest number of players with contracts ending in 2021?\n",
    "\n",
    "def num_clubs(y):\n",
    "    # check to make sure y is an integer\n",
    "    if isinstance(y, int) is not True:\n",
    "        return(\"Must input integer\")\n",
    "    \n",
    "    # check to make sure y is not zero or negative\n",
    "    if y <= 0:\n",
    "        return \"The number of clubs to display must be a postive integer\"\n",
    "    \n",
    "    conn = psycopg2.connect(host=\"localhost\", \n",
    "                    port=\"5432\", \n",
    "                    user=\"postgres\", \n",
    "                    password=\"114645\", \n",
    "                    database=\"postgres\")\n",
    "    \n",
    "    cur = conn.cursor()\n",
    "    cur.execute(\"select count(club), club from fifa.players20 where contract_valid_until = 2021 group by club order by count(club) desc\")\n",
    "    \n",
    "    # create empty list \n",
    "    list = []\n",
    "    for row in cur:\n",
    "        list.append(row)\n",
    "    \n",
    "    # return list of y clubs that have largest number of players with contracts ending in 2021\n",
    "    return list[:y]\n",
    "\n",
    "    cur.close()\n",
    "    conn.close()\n",
    "\n",
    "num_clubs(10)"
   ]
  },
  {
   "cell_type": "code",
   "execution_count": 43,
   "id": "1b13f70c",
   "metadata": {},
   "outputs": [
    {
     "data": {
      "text/plain": [
       "[(33, 'Parma'),\n",
       " (33, 'Athletic Club de Bilbao'),\n",
       " (33, 'Valencia CF'),\n",
       " (33, 'Fortuna Düsseldorf'),\n",
       " (33, 'Crystal Palace'),\n",
       " (33, 'Eintracht Frankfurt'),\n",
       " (33, 'Arsenal'),\n",
       " (33, 'Atlético Madrid'),\n",
       " (33, 'Wolverhampton Wanderers'),\n",
       " (33, 'Tottenham Hotspur')]"
      ]
     },
     "execution_count": 43,
     "metadata": {},
     "output_type": "execute_result"
    }
   ],
   "source": [
    "# question 3\n",
    "# List the z clubs with largest number of players in the dataset where z >= 5\n",
    "\n",
    "def num_clubs_lim(z):\n",
    "    # z has to be at least 5, z >=5\n",
    "    if z < 5:\n",
    "        return \"The number of clubs to display should at least be 5\"\n",
    "    \n",
    "    # check to make sure z is an integer\n",
    "    if isinstance(z, int) is not True:\n",
    "        return(\"Must input integer\")\n",
    "    \n",
    "    # check to make sure z is not zero or negative\n",
    "    if z <= 0:\n",
    "        return \"The number of clubs to display must be a postive integer\"\n",
    "    \n",
    "    conn = psycopg2.connect(host=\"localhost\", \n",
    "                    port=\"5432\", \n",
    "                    user=\"postgres\", \n",
    "                    password=\"114645\", \n",
    "                    database=\"postgres\")\n",
    "    \n",
    "    cur = conn.cursor()\n",
    "    cur.execute(\"select count(club) as number_of_players, club from fifa.players20 group by club order by count(club) desc\")\n",
    "    \n",
    "    # create empty list \n",
    "    list = []\n",
    "    for row in cur:\n",
    "        list.append(row)\n",
    "        \n",
    "    # return list of z clubs with largest number of players in the dataset where z >= 5\n",
    "    return list[:z]\n",
    "\n",
    "    cur.close()\n",
    "    conn.close()\n",
    "\n",
    "num_clubs_lim(10)"
   ]
  },
  {
   "cell_type": "code",
   "execution_count": 55,
   "id": "dae9098a",
   "metadata": {},
   "outputs": [
    {
     "data": {
      "text/plain": [
       "[('GK', 662)]"
      ]
     },
     "execution_count": 55,
     "metadata": {},
     "output_type": "execute_result"
    }
   ],
   "source": [
    "# question 4\n",
    "# What is the most popular nation_position and team_position in the dataset? (list the most popular for each)\n",
    "\n",
    "def team_position_mode():\n",
    "    conn = psycopg2.connect(host=\"localhost\", \n",
    "                    port=\"5432\", \n",
    "                    user=\"postgres\", \n",
    "                    password=\"114645\", \n",
    "                    database=\"postgres\")\n",
    "    \n",
    "    cur = conn.cursor()\n",
    "    cur.execute(\"SELECT team_position, count(team_position) FROM fifa.players20 where team_position != 'SUB' and team_position != 'RES' GROUP BY team_position ORDER BY count(team_position) DESC LIMIT 1\")\n",
    "    \n",
    "    # create empty list \n",
    "    list = []\n",
    "    for row in cur:\n",
    "        list.append(row)\n",
    "        \n",
    "    # return list of most popular team position that doesn't include substitute or reserve\n",
    "    return list\n",
    "\n",
    "    cur.close()\n",
    "    conn.close()\n",
    "\n",
    "team_position_mode()\n"
   ]
  },
  {
   "cell_type": "code",
   "execution_count": 54,
   "id": "10443815",
   "metadata": {},
   "outputs": [
    {
     "data": {
      "text/plain": [
       "[('LCB', 49), ('GK', 49), ('RCB', 49)]"
      ]
     },
     "execution_count": 54,
     "metadata": {},
     "output_type": "execute_result"
    }
   ],
   "source": [
    "# question 4 continued\n",
    "def nation_position_mode():\n",
    "    conn = psycopg2.connect(host=\"localhost\", \n",
    "                    port=\"5432\", \n",
    "                    user=\"postgres\", \n",
    "                    password=\"114645\", \n",
    "                    database=\"postgres\")\n",
    "    \n",
    "    cur = conn.cursor()\n",
    "    cur.execute(\"select nation_position, count(nation_position) from fifa.players20 where nation_position !='SUB' and nation_position != 'RES' group by nation_position order by count(nation_position) desc limit 3\")\n",
    "    \n",
    "    # create empty list \n",
    "    list = []\n",
    "    for row in cur:\n",
    "        list.append(row)\n",
    "        \n",
    "    # return list of most popular nation position that doesn't include substitute or reserve\n",
    "    return list\n",
    "\n",
    "    cur.close()\n",
    "    conn.close()\n",
    "\n",
    "nation_position_mode()"
   ]
  },
  {
   "cell_type": "code",
   "execution_count": 51,
   "id": "d1e719a6",
   "metadata": {},
   "outputs": [
    {
     "data": {
      "text/plain": [
       "[('England', 1667)]"
      ]
     },
     "execution_count": 51,
     "metadata": {},
     "output_type": "execute_result"
    }
   ],
   "source": [
    "# question 5\n",
    "# What is the most popular nationality for the players in the dataset?\n",
    "\n",
    "def nationality_mode():\n",
    "    conn = psycopg2.connect(host=\"localhost\", \n",
    "                    port=\"5432\", \n",
    "                    user=\"postgres\", \n",
    "                    password=\"114645\", \n",
    "                    database=\"postgres\")\n",
    "    \n",
    "    cur = conn.cursor()\n",
    "    cur.execute(\"select nationality, count(nationality) as number_of_players from fifa.players20 group by nationality order by number_of_players desc limit 1;\")\n",
    "    \n",
    "    # create empty list \n",
    "    list = []\n",
    "    for row in cur:\n",
    "        list.append(row)\n",
    "        \n",
    "    # return list of most popular nationality\n",
    "    return list\n",
    "\n",
    "    cur.close()\n",
    "    conn.close()\n",
    "\n",
    "nationality_mode()"
   ]
  }
